{
 "cells": [
  {
   "cell_type": "code",
   "execution_count": null,
   "id": "f1628999",
   "metadata": {},
   "outputs": [],
   "source": [
    "#Classifying galaxy_images\n",
    "import tensorflow as tf\n",
    "from tensorflow.keras.preprocessing.image import ImageDataGenerator\n",
    "\n",
    "from sklearn.model_selection import train_test_split\n",
    "from utils import load_galaxy_data\n",
    "\n",
    "import app\n",
    "\n",
    "#Loading the data\n",
    "input_data, labels = load_galaxy_data()\n",
    "print(input_data.shape)\n",
    "print(labels.shape)\n",
    "#Splitting the data\n",
    "x_train, x_test, y_train, y_test = train_test_split(input_data, labels, test_size=0.20, stratify=labels, shuffle=True, random_state=222)\n",
    "#Preprocessing the data\n",
    "data_generator = ImageDataGenerator(rescale=1./255)\n",
    "#Creating the iterators\n",
    "training_iterator = data_generator.flow(x_train, y_train,batch_size=5)\n",
    "validation_iterator = data_generator.flow(x_test, y_test, batch_size=5)\n",
    "#Building the model\n",
    "model = tf.keras.Sequential()\n",
    "model.add(tf.keras.Input(shape = (128, 128, 3)))\n",
    "model.add(tf.keras.layers.Conv2D(8, 3, strides=2, activation=\"relu\")) \n",
    "model.add(tf.keras.layers.MaxPooling2D(\n",
    "    pool_size=(2, 2), strides=(2,2)))\n",
    "model.add(tf.keras.layers.Conv2D(8, 3, strides=2, activation=\"relu\")) \n",
    "model.add(tf.keras.layers.MaxPooling2D(\n",
    "    pool_size=(2,2), strides=(2,2)))\n",
    "model.add(tf.keras.layers.Flatten())\n",
    "model.add(tf.keras.layers.Dense(16, activation=\"relu\"))\n",
    "model.add(tf.keras.layers.Dense(4, activation=\"softmax\"))\n",
    "print(model.summary())\n",
    "#Compiling the model\n",
    "model.compile(optimizer=tf.keras.optimizers.Adam(learning_rate=0.001), loss=tf.keras.losses.CategoricalCrossentropy(), metrics=[tf.keras.metrics.CategoricalAccuracy(),tf.keras.metrics.AUC()])\n",
    "#Training the model\n",
    "model.fit(training_iterator, steps_per_epoch = len(x_train)/5, epochs = 8, validation_data = validation_iterator, validation_steps = len(x_test)/5)\n",
    "#Visualizing how the convolutional neural network processes images\n",
    "from visualize import visualize_activations\n",
    "visualize_activations(model, validation_iterator)"
   ]
  }
 ],
 "metadata": {
  "kernelspec": {
   "display_name": "Python 3 (ipykernel)",
   "language": "python",
   "name": "python3"
  },
  "language_info": {
   "codemirror_mode": {
    "name": "ipython",
    "version": 3
   },
   "file_extension": ".py",
   "mimetype": "text/x-python",
   "name": "python",
   "nbconvert_exporter": "python",
   "pygments_lexer": "ipython3",
   "version": "3.9.7"
  }
 },
 "nbformat": 4,
 "nbformat_minor": 5
}
